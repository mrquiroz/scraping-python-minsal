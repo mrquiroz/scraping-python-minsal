{
 "cells": [
  {
   "cell_type": "code",
   "execution_count": 1,
   "metadata": {},
   "outputs": [],
   "source": [
    "import requests\n",
    "from bs4 import BeautifulSoup\n",
    "import pandas as pd"
   ]
  },
  {
   "cell_type": "markdown",
   "metadata": {},
   "source": [
    "Buscar precios en Jumbo"
   ]
  },
  {
   "cell_type": "code",
   "execution_count": 37,
   "metadata": {},
   "outputs": [
    {
     "name": "stdout",
     "output_type": "stream",
     "text": [
      "Valor: Aceite Maravilla Miraflores 1 L | Jumbo.cl\n",
      "Valor: 1699\n",
      "En stock?: in stock\n"
     ]
    }
   ],
   "source": [
    "source = requests.get('https://www.jumbo.cl/aceite-maravilla-miraflores-1-l/p')\n",
    "soup= BeautifulSoup(source.content,'html.parser')\n",
    "print('Valor:',soup.find('meta', {'property' : 'og:title'})['content'])\n",
    "print('Valor:',soup.find('meta', {'property' : 'product:price:amount'})['content'])\n",
    "print('En stock?:',soup.find('meta', {'property' : 'product:availability'})['content'])"
   ]
  },
  {
   "cell_type": "code",
   "execution_count": 36,
   "metadata": {},
   "outputs": [
    {
     "name": "stdout",
     "output_type": "stream",
     "text": [
      "Valor: Hamburguesa de vacuno La Crianza 150 g | Jumbo.cl\n",
      "Valor: 1000\n",
      "En stock?: in stock\n"
     ]
    }
   ],
   "source": [
    "source = requests.get('https://www.jumbo.cl/hamburguesa-de-vacuno-la-crianza-150-g/p')\n",
    "soup= BeautifulSoup(source.content,'html.parser')\n",
    "print('Valor:',soup.find('meta', {'property' : 'og:title'})['content'])\n",
    "print('Valor:',soup.find('meta', {'property' : 'product:price:amount'})['content'])\n",
    "print('En stock?:',soup.find('meta', {'property' : 'product:availability'})['content'])"
   ]
  },
  {
   "cell_type": "markdown",
   "metadata": {},
   "source": [
    "**Nuevos infectados coronavirus**"
   ]
  },
  {
   "cell_type": "code",
   "execution_count": 38,
   "metadata": {},
   "outputs": [],
   "source": [
    "r = requests.get('https://www.minsal.cl/nuevo-coronavirus-2019-ncov/casos-confirmados-en-chile-covid-19/')\n",
    "soup = BeautifulSoup(r.text,'html.parser')\n",
    "tabla = soup.find('table')\n",
    "df = pd.read_html(str(tabla),skiprows=2)[0]\n",
    "df.index = df[0]\n",
    "columns = list(df.iloc[0])\n",
    "df.columns = columns\n",
    "df = df.iloc[1:]\n",
    "df = df[columns[1:]]"
   ]
  },
  {
   "cell_type": "code",
   "execution_count": 39,
   "metadata": {},
   "outputs": [
    {
     "data": {
      "text/html": [
       "<div>\n",
       "<style scoped>\n",
       "    .dataframe tbody tr th:only-of-type {\n",
       "        vertical-align: middle;\n",
       "    }\n",
       "\n",
       "    .dataframe tbody tr th {\n",
       "        vertical-align: top;\n",
       "    }\n",
       "\n",
       "    .dataframe thead th {\n",
       "        text-align: right;\n",
       "    }\n",
       "</style>\n",
       "<table border=\"1\" class=\"dataframe\">\n",
       "  <thead>\n",
       "    <tr style=\"text-align: right;\">\n",
       "      <th></th>\n",
       "      <th>Casos nuevos</th>\n",
       "      <th>Casos totales</th>\n",
       "      <th>% Casos totales**</th>\n",
       "      <th>Fallecidos</th>\n",
       "    </tr>\n",
       "    <tr>\n",
       "      <th>0</th>\n",
       "      <th></th>\n",
       "      <th></th>\n",
       "      <th></th>\n",
       "      <th></th>\n",
       "    </tr>\n",
       "  </thead>\n",
       "  <tbody>\n",
       "    <tr>\n",
       "      <th>Arica y Parinacota</th>\n",
       "      <td>30</td>\n",
       "      <td>210</td>\n",
       "      <td>1,78 %</td>\n",
       "      <td>2</td>\n",
       "    </tr>\n",
       "    <tr>\n",
       "      <th>Tarapacá</th>\n",
       "      <td>14</td>\n",
       "      <td>128</td>\n",
       "      <td>1,08 %</td>\n",
       "      <td>0</td>\n",
       "    </tr>\n",
       "    <tr>\n",
       "      <th>Antofagasta</th>\n",
       "      <td>14</td>\n",
       "      <td>340</td>\n",
       "      <td>2,88 %</td>\n",
       "      <td>2</td>\n",
       "    </tr>\n",
       "    <tr>\n",
       "      <th>Atacama</th>\n",
       "      <td>5</td>\n",
       "      <td>18</td>\n",
       "      <td>0,15 %</td>\n",
       "      <td>0</td>\n",
       "    </tr>\n",
       "    <tr>\n",
       "      <th>Coquimbo</th>\n",
       "      <td>0</td>\n",
       "      <td>70</td>\n",
       "      <td>0,59 %</td>\n",
       "      <td>0</td>\n",
       "    </tr>\n",
       "    <tr>\n",
       "      <th>Valparaíso</th>\n",
       "      <td>8</td>\n",
       "      <td>429</td>\n",
       "      <td>3,63 %</td>\n",
       "      <td>7</td>\n",
       "    </tr>\n",
       "    <tr>\n",
       "      <th>Metropolitana</th>\n",
       "      <td>351</td>\n",
       "      <td>6.434</td>\n",
       "      <td>54,47 %</td>\n",
       "      <td>85</td>\n",
       "    </tr>\n",
       "    <tr>\n",
       "      <th>O’Higgins</th>\n",
       "      <td>17</td>\n",
       "      <td>76</td>\n",
       "      <td>0,64 %</td>\n",
       "      <td>1</td>\n",
       "    </tr>\n",
       "    <tr>\n",
       "      <th>Maule</th>\n",
       "      <td>5</td>\n",
       "      <td>333</td>\n",
       "      <td>2,82 %</td>\n",
       "      <td>10</td>\n",
       "    </tr>\n",
       "    <tr>\n",
       "      <th>Ñuble</th>\n",
       "      <td>5</td>\n",
       "      <td>708</td>\n",
       "      <td>5,99 %</td>\n",
       "      <td>13</td>\n",
       "    </tr>\n",
       "    <tr>\n",
       "      <th>Biobío</th>\n",
       "      <td>17</td>\n",
       "      <td>675</td>\n",
       "      <td>5,71 %</td>\n",
       "      <td>5</td>\n",
       "    </tr>\n",
       "    <tr>\n",
       "      <th>Araucanía</th>\n",
       "      <td>29</td>\n",
       "      <td>1.142</td>\n",
       "      <td>9,67 %</td>\n",
       "      <td>26</td>\n",
       "    </tr>\n",
       "    <tr>\n",
       "      <th>Los Ríos</th>\n",
       "      <td>2</td>\n",
       "      <td>173</td>\n",
       "      <td>1,46 %</td>\n",
       "      <td>3</td>\n",
       "    </tr>\n",
       "    <tr>\n",
       "      <th>Los Lagos</th>\n",
       "      <td>9</td>\n",
       "      <td>454</td>\n",
       "      <td>3,84 %</td>\n",
       "      <td>7</td>\n",
       "    </tr>\n",
       "    <tr>\n",
       "      <th>Aysén</th>\n",
       "      <td>0</td>\n",
       "      <td>7</td>\n",
       "      <td>0,06 %</td>\n",
       "      <td>0</td>\n",
       "    </tr>\n",
       "    <tr>\n",
       "      <th>Magallanes</th>\n",
       "      <td>10</td>\n",
       "      <td>615</td>\n",
       "      <td>5,21 %</td>\n",
       "      <td>7</td>\n",
       "    </tr>\n",
       "    <tr>\n",
       "      <th>Total</th>\n",
       "      <td>516</td>\n",
       "      <td>11.812</td>\n",
       "      <td>100%</td>\n",
       "      <td>168</td>\n",
       "    </tr>\n",
       "  </tbody>\n",
       "</table>\n",
       "</div>"
      ],
      "text/plain": [
       "                   Casos nuevos Casos totales % Casos totales** Fallecidos\n",
       "0                                                                         \n",
       "Arica y Parinacota           30           210            1,78 %          2\n",
       "Tarapacá                     14           128            1,08 %          0\n",
       "Antofagasta                  14           340            2,88 %          2\n",
       "Atacama                       5            18            0,15 %          0\n",
       "Coquimbo                      0            70            0,59 %          0\n",
       "Valparaíso                    8           429            3,63 %          7\n",
       "Metropolitana               351         6.434           54,47 %         85\n",
       "O’Higgins                    17            76            0,64 %          1\n",
       "Maule                         5           333            2,82 %         10\n",
       "Ñuble                         5           708            5,99 %         13\n",
       "Biobío                       17           675            5,71 %          5\n",
       "Araucanía                    29         1.142            9,67 %         26\n",
       "Los Ríos                      2           173            1,46 %          3\n",
       "Los Lagos                     9           454            3,84 %          7\n",
       "Aysén                         0             7            0,06 %          0\n",
       "Magallanes                   10           615            5,21 %          7\n",
       "Total                       516        11.812              100%        168"
      ]
     },
     "execution_count": 39,
     "metadata": {},
     "output_type": "execute_result"
    }
   ],
   "source": [
    "df"
   ]
  },
  {
   "cell_type": "code",
   "execution_count": null,
   "metadata": {},
   "outputs": [],
   "source": []
  }
 ],
 "metadata": {
  "kernelspec": {
   "display_name": "Python 3",
   "language": "python",
   "name": "python3"
  },
  "language_info": {
   "codemirror_mode": {
    "name": "ipython",
    "version": 3
   },
   "file_extension": ".py",
   "mimetype": "text/x-python",
   "name": "python",
   "nbconvert_exporter": "python",
   "pygments_lexer": "ipython3",
   "version": "3.6.8"
  }
 },
 "nbformat": 4,
 "nbformat_minor": 2
}
